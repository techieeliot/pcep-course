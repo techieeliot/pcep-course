{
 "cells": [
  {
   "cell_type": "code",
   "execution_count": 2,
   "id": "7cb57c65",
   "metadata": {
    "tags": [
     "parameters"
    ]
   },
   "outputs": [
    {
     "name": "stdout",
     "output_type": "stream",
     "text": [
      "Car DataFrame:\n",
      "        Make   Model  Year  Price\n",
      "0     Toyota   Camry  2020  24000\n",
      "1      Honda   Civic  2021  22000\n",
      "2       Ford   F-150  2019  30000\n",
      "3  Chevrolet  Malibu  2022  25000\n",
      "4     Nissan  Altima  2020  23000\n"
     ]
    }
   ],
   "source": [
    "import pandas as pd\n",
    "\n",
    "# Create a DataFrame with car makes and models\n",
    "car_data = {\n",
    "    'Make': ['Toyota', 'Honda', 'Ford', 'Chevrolet', 'Nissan', 'BMW', 'Mercedes-Benz'],\n",
    "    'Model': ['Camry', 'Civic', 'F-150', 'Malibu', 'Altima', '3 Series', 'C-Class'],\n",
    "    'Year': [2020, 2021, 2019, 2022, 2020, 2021, 2022],\n",
    "    'Price': [24000, 22000, 30000, 25000, 23000, 35000, 40000],\n",
    "}\n",
    "\n",
    "car_df = pd.DataFrame(car_data)\n",
    "\n",
    "print(\"Car DataFrame:\", car_df.head(), sep='\\n')"
   ]
  },
  {
   "cell_type": "code",
   "execution_count": 3,
   "id": "0141ee90",
   "metadata": {},
   "outputs": [
    {
     "name": "stdout",
     "output_type": "stream",
     "text": [
      "\n",
      "ASIC Hardware DataFrame:\n",
      "              ASICs  Hash Rate  Power Consumption  Price\n",
      "0      Antminer S19        110               3250   3000\n",
      "1   Whatsminer M30S        112               3400   2800\n",
      "2  AvalonMiner 1246         90               3200   2500\n"
     ]
    }
   ],
   "source": [
    "# data mining asics hardware collections\n",
    "collections = {\n",
    "    'ASICs': ['Antminer S19', 'Whatsminer M30S', 'AvalonMiner 1246'],\n",
    "    'Hash Rate': [110, 112, 90],\n",
    "    'Power Consumption': [3250, 3400, 3200],  # in watts\n",
    "    'Price': [3000, 2800, 2500],\n",
    "}\n",
    "\n",
    "asic_df = pd.DataFrame(collections)\n",
    "\n",
    "print(\"\\nASIC Hardware DataFrame:\", asic_df.head(), sep='\\n')"
   ]
  },
  {
   "cell_type": "code",
   "execution_count": null,
   "id": "b7e15607",
   "metadata": {},
   "outputs": [
    {
     "name": "stdout",
     "output_type": "stream",
     "text": [
      "            Make     Model  Year  Price\n",
      "0         Toyota     Camry  2020  24000\n",
      "1          Honda     Civic  2021  22000\n",
      "2           Ford     F-150  2019  30000\n",
      "3      Chevrolet    Malibu  2022  25000\n",
      "4         Nissan    Altima  2020  23000\n",
      "5            BMW  3 Series  2021  35000\n",
      "6  Mercedes-Benz   C-Class  2022  40000\n",
      "            Make     Model  Year  Price\n",
      "0         Toyota     Camry  2020  24000\n",
      "1          Honda     Civic  2021  22000\n",
      "2           Ford     F-150  2019  30000\n",
      "3      Chevrolet    Malibu  2022  25000\n",
      "4         Nissan    Altima  2020  23000\n",
      "5            BMW  3 Series  2021  35000\n",
      "6  Mercedes-Benz   C-Class  2022  40000\n",
      "            Make     Model  Year  Price\n",
      "0         Toyota     Camry  2020  24000\n",
      "1          Honda     Civic  2021  22000\n",
      "2           Ford     F-150  2019  30000\n",
      "3      Chevrolet    Malibu  2022  25000\n",
      "4         Nissan    Altima  2020  23000\n",
      "5            BMW  3 Series  2021  35000\n",
      "6  Mercedes-Benz   C-Class  2022  40000\n",
      "\n",
      "Loaded Car DataFrame:\n",
      "        Make   Model  Year  Price\n",
      "0     Toyota   Camry  2020  24000\n",
      "1      Honda   Civic  2021  22000\n",
      "2       Ford   F-150  2019  30000\n",
      "3  Chevrolet  Malibu  2022  25000\n",
      "4     Nissan  Altima  2020  23000\n",
      "\n",
      "Loaded ASIC Hardware DataFrame:\n",
      "              ASICs  Hash Rate  Power Consumption  Price\n",
      "0      Antminer S19        110               3250   3000\n",
      "1   Whatsminer M30S        112               3400   2800\n",
      "2  AvalonMiner 1246         90               3200   2500\n"
     ]
    }
   ],
   "source": [
    "import tkinter as tk\n",
    "\n",
    "data = tk.Tk()\n",
    "data.title(\"Car Data\")\n",
    "label = tk.Label(data, text=\"Car Data\", font=(\"Arial\", 24))\n",
    "label.pack()\n",
    "button = tk.Button(data, text=\"Show Data\", command=lambda: print(car_df))\n",
    "button.pack()\n",
    "data.mainloop()\n",
    "# Save the DataFrame to a CSV file\n",
    "car_df.to_csv('car_data.csv', index=False)\n",
    "asic_df.to_csv('asic_data.csv', index=False)\n",
    "\n",
    "# Read the DataFrame from the CSV file\n",
    "car_df_loaded = pd.read_csv('car_data.csv')\n",
    "asic_df_loaded = pd.read_csv('asic_data.csv')\n",
    "print(\"\\nLoaded Car DataFrame:\", car_df_loaded.head(), sep='\\n')\n",
    "print(\"\\nLoaded ASIC Hardware DataFrame:\", asic_df_loaded.head(), sep='\\n')\n",
    "# Display the DataFrame in a GUI window\n",
    "root = tk.Tk()\n",
    "root.title(\"Car Data\")\n",
    "text = tk.Text(root, wrap='word')\n",
    "text.insert('1.0', car_df.to_string())\n",
    "text.pack(expand=True, fill='both')\n",
    "root.mainloop()\n",
    "# Display the ASIC DataFrame in a GUI window\n",
    "root_asic = tk.Tk()\n",
    "root_asic.title(\"ASIC Hardware Data\")\n",
    "text_asic = tk.Text(root_asic, wrap='word')\n",
    "text_asic.insert('1.0', asic_df.to_string())\n",
    "text_asic.pack(expand=True, fill='both')\n",
    "root_asic.mainloop()\n",
    "# Save the DataFrame to an Excel file\n",
    "car_df.to_excel('car_data.xlsx', index=False)\n",
    "asic_df.to_excel('asic_data.xlsx', index=False)\n",
    "# Read the DataFrame from the Excel file\n",
    "car_df_excel = pd.read_excel('car_data.xlsx')\n",
    "asic_df_excel = pd.read_excel('asic_data.xlsx')\n",
    "print(\"\\nLoaded Car DataFrame from Excel:\", car_df_excel.head(), sep='\\n')\n",
    "print(\"\\nLoaded ASIC Hardware DataFrame from Excel:\", asic_df_excel.head(), sep='\\n')\n"
   ]
  }
 ],
 "metadata": {
  "kernelspec": {
   "display_name": ".venv",
   "language": "python",
   "name": "python3"
  },
  "language_info": {
   "codemirror_mode": {
    "name": "ipython",
    "version": 3
   },
   "file_extension": ".py",
   "mimetype": "text/x-python",
   "name": "python",
   "nbconvert_exporter": "python",
   "pygments_lexer": "ipython3",
   "version": "3.9.6"
  }
 },
 "nbformat": 4,
 "nbformat_minor": 5
}
